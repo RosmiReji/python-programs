{
  "nbformat": 4,
  "nbformat_minor": 0,
  "metadata": {
    "colab": {
      "name": "Cycle2.ipynb",
      "provenance": [],
      "collapsed_sections": []
    },
    "kernelspec": {
      "name": "python3",
      "display_name": "Python 3"
    }
  },
  "cells": [
    {
      "cell_type": "code",
      "metadata": {
        "id": "dAAPqa-ijm5t",
        "colab": {
          "base_uri": "https://localhost:8080/"
        },
        "outputId": "950bec40-8a14-4379-c329-90f5197f8e6e"
      },
      "source": [
        "#Display future leap years from current year to a final year entered by user.\r\n",
        "y=int(input(\"enter the final year\"))\r\n",
        "print(\"Future leap years from 2021\")\r\n",
        "for x in range (2021,y+1):\r\n",
        " if((x%4==0) and(x%100!=0)) or (x%100==0):\r\n",
        "   print(x)"
      ],
      "execution_count": null,
      "outputs": [
        {
          "output_type": "stream",
          "text": [
            "enter the final year2030\n",
            "Future leap years from 2021\n",
            "2024\n",
            "2028\n"
          ],
          "name": "stdout"
        }
      ]
    },
    {
      "cell_type": "code",
      "metadata": {
        "id": "3gKc7hod6xiF",
        "colab": {
          "base_uri": "https://localhost:8080/"
        },
        "outputId": "961dd3f9-a421-467c-ac29-c4967e6d5679"
      },
      "source": [
        "# Generate positive list of numbers from a given list of integers\r\n",
        "print(\"Positive list of numbers from a given list of integers\\n\")\r\n",
        "mylist=[2,3,-4,-5,-3]\r\n",
        "print(\"First list :\",mylist)\r\n",
        "newlist=[x for x in mylist if x > 0]\r\n",
        "print(\"New list:\",newlist)\r\n",
        "\r\n",
        "#Square of N numbers\r\n",
        "print(\"\\nSquare of n nos from given list\\n\")\r\n",
        "mylist=[2,5,3,8]\r\n",
        "print(\"First List\",mylist);\r\n",
        "newlist=[number ** 2 for number in mylist] \r\n",
        "print(\"new list\",newlist)\r\n",
        "\r\n",
        "#Form a list of vowels selected from a given word\r\n",
        "print(\"\\nForm a list of vowels selected from MATHEMATICS\\n\")\r\n",
        "[x for x in 'MATHEMATICS' if x in ['A','E','I','O','U']]"
      ],
      "execution_count": 4,
      "outputs": [
        {
          "output_type": "stream",
          "text": [
            "Positive list of numbers from a given list of integers\n",
            "\n",
            "First list : [2, 3, -4, -5, -3]\n",
            "New list: [2, 3]\n",
            "\n",
            "Square of n nos from given list\n",
            "\n",
            "First List [2, 5, 3, 8]\n",
            "new list [4, 25, 9, 64]\n",
            "\n",
            "Form a list of vowels selected from MATHEMATICS\n",
            "\n"
          ],
          "name": "stdout"
        },
        {
          "output_type": "execute_result",
          "data": {
            "text/plain": [
              "['A', 'E', 'A', 'I']"
            ]
          },
          "metadata": {
            "tags": []
          },
          "execution_count": 4
        }
      ]
    },
    {
      "cell_type": "code",
      "metadata": {
        "colab": {
          "base_uri": "https://localhost:8080/"
        },
        "id": "vYYmGz91C4xk",
        "outputId": "546709a4-eaca-4667-9faa-21256a8ac19f"
      },
      "source": [
        "#List ordinal value of each element of a word (Hint: use ord() to get ordinal values)\r\n",
        "n=input(\"Enter any word \")\r\n",
        "for i in range(len(n)):\r\n",
        "  print(\"ASCII Value is\" ,n[i],\"is\",ord(n[i]))\r\n"
      ],
      "execution_count": 9,
      "outputs": [
        {
          "output_type": "stream",
          "text": [
            "Enter any wordwater\n",
            "ASCII Value is w is 119\n",
            "ASCII Value is a is 97\n",
            "ASCII Value is t is 116\n",
            "ASCII Value is e is 101\n",
            "ASCII Value is r is 114\n"
          ],
          "name": "stdout"
        }
      ]
    },
    {
      "cell_type": "code",
      "metadata": {
        "id": "8RGKxMawf5y_",
        "colab": {
          "base_uri": "https://localhost:8080/"
        },
        "outputId": "cf38702d-781a-489a-8345-d6c11651d736"
      },
      "source": [
        "# Count the occurrences of each word in a line of text.\r\n",
        "txt=\"apple mango strawberry jam apple jam mango\"\r\n",
        "x1=txt.count(\"apple\")\r\n",
        "x2=txt.count(\"mango\")\r\n",
        "x3=txt.count(\"jam\")\r\n",
        "x4=txt.count(\"strawberry\")\r\n",
        "print(x1,x2,x3,x4)"
      ],
      "execution_count": null,
      "outputs": [
        {
          "output_type": "stream",
          "text": [
            "2 2 2 1\n"
          ],
          "name": "stdout"
        }
      ]
    },
    {
      "cell_type": "code",
      "metadata": {
        "colab": {
          "base_uri": "https://localhost:8080/"
        },
        "id": "KDoGcNKVX3zz",
        "outputId": "a29b1925-c337-47af-9477-d563140b8f70"
      },
      "source": [
        "# Accept the radius from user and find area of circle.\r\n",
        "r=float(input(\"enter radius of circle\"))\r\n",
        "pi=3.14\r\n",
        "area=pi*r*r\r\n",
        "print(\"Area=\",area)"
      ],
      "execution_count": null,
      "outputs": [
        {
          "output_type": "stream",
          "text": [
            "enter radius of circle4\n",
            "Area= 50.24\n"
          ],
          "name": "stdout"
        }
      ]
    },
    {
      "cell_type": "code",
      "metadata": {
        "id": "TQHiwwXBsvpN",
        "colab": {
          "base_uri": "https://localhost:8080/"
        },
        "outputId": "5a6b2795-4dc3-4ea5-a948-bb29982f9dae"
      },
      "source": [
        "#Find biggest of 3 numbers entered.\r\n",
        "num1 = float(input(\"Enter first number: \"))\r\n",
        "num2 = float(input(\"Enter second number: \"))\r\n",
        "num3 = float(input(\"Enter third number: \"))\r\n",
        " \r\n",
        "if (num1 > num2) and (num1 > num3):\r\n",
        "   largest = num1\r\n",
        "elif (num2 > num1) and (num2 > num3):\r\n",
        "   largest = num2\r\n",
        "else:\r\n",
        "   largest = num3\r\n",
        " \r\n",
        "print(\"The largest number is\",largest)"
      ],
      "execution_count": null,
      "outputs": [
        {
          "output_type": "stream",
          "text": [
            "Enter first number: 4\n",
            "Enter second number: 7\n",
            "Enter third number: 3\n",
            "The largest number is 7.0\n"
          ],
          "name": "stdout"
        }
      ]
    },
    {
      "cell_type": "code",
      "metadata": {
        "colab": {
          "base_uri": "https://localhost:8080/"
        },
        "id": "7EMGVoT09_4t",
        "outputId": "3d0164c3-e13e-431d-d3ec-9d6e909f0fe5"
      },
      "source": [
        "# Prompt the user for a list of integers. For all values greater than 100, store ‘over’ instead.\r\n",
        "x=[]\r\n",
        "n=int(input(\"Enter any integers\"))\r\n",
        "for i in range(1,n+1):\r\n",
        "  a=int(input())\r\n",
        "  if(a>100):\r\n",
        "    x.append('over')\r\n",
        "  else:\r\n",
        "    x.append(a)\r\n",
        "print(\"modified list:\",x)     "
      ],
      "execution_count": 2,
      "outputs": [
        {
          "output_type": "stream",
          "text": [
            "Enter any integers5\n",
            "6\n",
            "4\n",
            "8\n",
            "3\n",
            "3\n",
            "modified list: [6, 4, 8, 3, 3]\n"
          ],
          "name": "stdout"
        }
      ]
    },
    {
      "cell_type": "code",
      "metadata": {
        "colab": {
          "base_uri": "https://localhost:8080/"
        },
        "id": "fHOtu4lxZAlj",
        "outputId": "16519efc-973e-467e-ccac-857848b00de7"
      },
      "source": [
        "#Merge two dictionaries.\r\n",
        "dict1={\"a\":100,\"b\":200}\r\n",
        "dict2={\"x\":300,\"y\":400}\r\n",
        "newdict=dict1.copy()\r\n",
        "newdict.update(dict2)\r\n",
        "print(\"Merged dicionary:\",newdict)\r\n"
      ],
      "execution_count": null,
      "outputs": [
        {
          "output_type": "stream",
          "text": [
            "Merged dicionary: {'a': 100, 'b': 200, 'x': 300, 'y': 400}\n"
          ],
          "name": "stdout"
        }
      ]
    },
    {
      "cell_type": "code",
      "metadata": {
        "colab": {
          "base_uri": "https://localhost:8080/"
        },
        "id": "fmJwm_OaN5k0",
        "outputId": "aa90d79c-2932-48c1-c1aa-87d67e224f62"
      },
      "source": [
        "#Accept an integer n and compute n+nn+nnn.\r\n",
        "a = int(input(\"Input an integer : \"))\r\n",
        "n1 = int( \"%s\" % a )\r\n",
        "n2 = int( \"%s%s\" % (a,a) )\r\n",
        "n3 = int( \"%s%s%s\" % (a,a,a) )\r\n",
        "print (n1+n2+n3)\r\n"
      ],
      "execution_count": null,
      "outputs": [
        {
          "output_type": "stream",
          "text": [
            "Input an integer : 5\n",
            "615\n"
          ],
          "name": "stdout"
        }
      ]
    },
    {
      "cell_type": "code",
      "metadata": {
        "id": "V0kPO_0Pf7j7",
        "colab": {
          "base_uri": "https://localhost:8080/"
        },
        "outputId": "aa63bde2-eddf-42fc-c3f9-84b8ea9c0db3"
      },
      "source": [
        "#Create a string from given string where first and last characters exchanged. [eg: python -> nythop]\r\n",
        "\r\n",
        "def change_string(str1):\r\n",
        "    return str1[-1:] + str1[1:-1] + str1[:1]\r\n",
        "print(change_string('abcd'))\r\n"
      ],
      "execution_count": null,
      "outputs": [
        {
          "output_type": "stream",
          "text": [
            "dbca\n"
          ],
          "name": "stdout"
        }
      ]
    },
    {
      "cell_type": "code",
      "metadata": {
        "id": "Z_G2DJxjjtGh",
        "colab": {
          "base_uri": "https://localhost:8080/"
        },
        "outputId": "2d125c28-5592-4d5f-afb8-09150f96f3a8"
      },
      "source": [
        "#Create a single string separated with space from two strings by swapping the\r\n",
        " character at position 1.\r\n",
        "\r\n",
        "def chars_mix_up(a, b):\r\n",
        "  new_a = b[:2] + a[2:]\r\n",
        "  new_b = a[:2] + b[2:]\r\n",
        "\r\n",
        "  return new_a + ' ' + new_b\r\n",
        "print(chars_mix_up('abc', 'xyz'))"
      ],
      "execution_count": 10,
      "outputs": [
        {
          "output_type": "stream",
          "text": [
            "xyc abz\n"
          ],
          "name": "stdout"
        }
      ]
    },
    {
      "cell_type": "code",
      "metadata": {
        "id": "t40rgrw8i3mM",
        "colab": {
          "base_uri": "https://localhost:8080/"
        },
        "outputId": "c6e3037c-1148-41c7-a322-e7e0bd1deac1"
      },
      "source": [
        "#Get a string from an input string where all occurrences of first character replaced with ‘$’, except first character.\r\n",
        "\r\n",
        "def change_char(str1):\r\n",
        "  char = str1[0]\r\n",
        "  str1 = str1.replace(char, '$')\r\n",
        "  str1 = char + str1[1:]\r\n",
        "\r\n",
        "  return str1\r\n",
        "\r\n",
        "print(change_char('restart'))"
      ],
      "execution_count": null,
      "outputs": [
        {
          "output_type": "stream",
          "text": [
            "resta$t\n"
          ],
          "name": "stdout"
        }
      ]
    },
    {
      "cell_type": "code",
      "metadata": {
        "colab": {
          "base_uri": "https://localhost:8080/"
        },
        "id": "dRpvfMl6k8v9",
        "outputId": "47c3d7e9-586f-45bd-ef29-8f6913ae9e4e"
      },
      "source": [
        "#From a list of integers, create a list removing even numbers.list=[1,2,3,4,5,6]\r\n",
        "print(\"Orginal list\",list)\r\n",
        "for i in list:\r\n",
        "  if(i%2==0):\r\n",
        "    list.remove(i)\r\n",
        "    print(\"List after removing Even Nos\",list)"
      ],
      "execution_count": null,
      "outputs": [
        {
          "output_type": "stream",
          "text": [
            "Orginal list [1, 2, 3, 4, 5, 6]\n",
            "List after removing Even Nos [1, 3, 4, 5, 6]\n",
            "List after removing Even Nos [1, 3, 5, 6]\n",
            "List after removing Even Nos [1, 3, 5]\n"
          ],
          "name": "stdout"
        }
      ]
    },
    {
      "cell_type": "code",
      "metadata": {
        "colab": {
          "base_uri": "https://localhost:8080/"
        },
        "id": "aDhs3wfCwcj8",
        "outputId": "a4b876bb-27b1-4dec-fe4d-e39be8560ceb"
      },
      "source": [
        "#Accept a file name from user and print extension of that.\r\n",
        "filename = input(\"Input the Filename: \")\r\n",
        "f_extns = filename.split(\".\")\r\n",
        "print (\"The extension of the file is : \" + repr(f_extns[-1]))"
      ],
      "execution_count": null,
      "outputs": [
        {
          "output_type": "stream",
          "text": [
            "Input the Filename: large.java\n",
            "The extension of the file is : 'java'\n"
          ],
          "name": "stdout"
        }
      ]
    },
    {
      "cell_type": "code",
      "metadata": {
        "colab": {
          "base_uri": "https://localhost:8080/"
        },
        "id": "BcZSX7qgYxkI",
        "outputId": "26984aa4-90b5-413d-d31a-a398634d14a6"
      },
      "source": [
        "#Sort dictionary in ascending and descending order. \r\n",
        "import operator\r\n",
        "d = {1: 2, 3: 4, 4: 3, 2: 1, 0: 0}\r\n",
        "print('Original dictionary : ',d)\r\n",
        "sorted_d = sorted(d.items(), key=operator.itemgetter(1))\r\n",
        "print('Dictionary in ascending order by value : ',sorted_d)\r\n",
        "sorted_d = dict( sorted(d.items(), key=operator.itemgetter(1),reverse=True))\r\n",
        "print('Dictionary in descending order by value : ',sorted_d)"
      ],
      "execution_count": null,
      "outputs": [
        {
          "output_type": "stream",
          "text": [
            "Original dictionary :  {1: 2, 3: 4, 4: 3, 2: 1, 0: 0}\n",
            "Dictionary in ascending order by value :  [(0, 0), (2, 1), (1, 2), (4, 3), (3, 4)]\n",
            "Dictionary in descending order by value :  {3: 4, 4: 3, 1: 2, 2: 1, 0: 0}\n"
          ],
          "name": "stdout"
        }
      ]
    },
    {
      "cell_type": "code",
      "metadata": {
        "colab": {
          "base_uri": "https://localhost:8080/"
        },
        "id": "QjvQf_w8XHcs",
        "outputId": "5c8d7ddb-5ef4-44d0-e505-d96a133cfd1b"
      },
      "source": [
        "# Print out all colors from color-list1 not contained in color-list2.\r\n",
        "color_list_1 = set([\"White\", \"Black\", \"Red\"])\r\n",
        "color_list_2 = set([\"Red\", \"Green\"])\r\n",
        "\r\n",
        "print(color_list_1.difference(color_list_2))"
      ],
      "execution_count": null,
      "outputs": [
        {
          "output_type": "stream",
          "text": [
            "{'Black', 'White'}\n"
          ],
          "name": "stdout"
        }
      ]
    },
    {
      "cell_type": "code",
      "metadata": {
        "colab": {
          "base_uri": "https://localhost:8080/"
        },
        "id": "19AajSKG5xhw",
        "outputId": "cc555e95-38e6-4977-d085-0ab1653fc3a2"
      },
      "source": [
        "# Enter 2 lists of integers. Check (a) Whether list are of same length\r\n",
        "list1= [2,3,4,5]\r\n",
        "list2=[2,7,5,6]\r\n",
        "print(\"The first list is\" + str(list1))\r\n",
        "print(\"The second list is\", str(list2))\r\n",
        "l1=len(list1)\r\n",
        "l2=len(list2)\r\n",
        "print(\"Length of list 1\",\"and length of list2: \",l2)\r\n",
        "if l1==l2:\r\n",
        "  print(\"The list are of same length\")\r\n",
        "else:\r\n",
        "    print(\"The list are of different length\")\r\n"
      ],
      "execution_count": 5,
      "outputs": [
        {
          "output_type": "stream",
          "text": [
            "The first list is[2, 3, 4, 5]\n",
            "The second list is [2, 7, 5, 6]\n",
            "Length of list 1 and length of list2:  4\n",
            "The list are of same length\n"
          ],
          "name": "stdout"
        }
      ]
    },
    {
      "cell_type": "code",
      "metadata": {
        "colab": {
          "base_uri": "https://localhost:8080/"
        },
        "id": "EDyFL8xl6FL3",
        "outputId": "ea6b3385-6cd7-4080-888d-add40fda35d0"
      },
      "source": [
        "# Enter 2 lists of integers. (b) check whether list sums to same value \r\n",
        "list1= [2,3,4,5]\r\n",
        "list2=[2,7,5,6]\r\n",
        "print(\"The first list is\" + str(list1))\r\n",
        "print(\"The second list is\", str(list2))\r\n",
        "sum1=0\r\n",
        "sum2=0\r\n",
        "for x in range(0,len(list1)):\r\n",
        "  sum1=sum1+list1[x]\r\n",
        "print(\"Sum of all elements in given list1\",sum1)     \r\n",
        "for x in range (0,len(list2)):\r\n",
        "  sum2=sum2+list2[x] \r\n",
        "print(\"Sum of all elements in given list2\",sum2)\r\n",
        "if(sum1==sum2):\r\n",
        "  print(\"List sum to same value\")\r\n",
        "else:\r\n",
        "  print(\"List sum to different value\")\r\n",
        "\r\n"
      ],
      "execution_count": 14,
      "outputs": [
        {
          "output_type": "stream",
          "text": [
            "The first list is[2, 3, 4, 5]\n",
            "The second list is [2, 7, 5, 6]\n",
            "Sum of all elements in given list1 14\n",
            "Sum of all elements in given list2 20\n",
            "List sum to different value\n"
          ],
          "name": "stdout"
        }
      ]
    },
    {
      "cell_type": "code",
      "metadata": {
        "colab": {
          "base_uri": "https://localhost:8080/"
        },
        "id": "VHiw8CjO6LXH",
        "outputId": "04215bc7-235e-4c54-af49-9f8fa6e8773b"
      },
      "source": [
        "# Enter 2 lists of integers (c) whether any value occur in both\r\n",
        "list1= [2,3,4,5]\r\n",
        "list2=[2,7,5,6]\r\n",
        "print(\"The first list is\" + str(list1))\r\n",
        "print(\"The second list is\", str(list2))\r\n",
        "print(\"Values occur in both list\")\r\n",
        "for x in list1:\r\n",
        "  if(x in list1 and x in list2):\r\n",
        "    print(x)\r\n"
      ],
      "execution_count": 15,
      "outputs": [
        {
          "output_type": "stream",
          "text": [
            "The first list is[2, 3, 4, 5]\n",
            "The second list is [2, 7, 5, 6]\n",
            "Values occur in both list\n",
            "2\n",
            "5\n"
          ],
          "name": "stdout"
        }
      ]
    },
    {
      "cell_type": "code",
      "metadata": {
        "colab": {
          "base_uri": "https://localhost:8080/"
        },
        "id": "oMFl4qB3b4kK",
        "outputId": "1d3e7f9b-dfbd-42ee-cad5-6801eb343b42"
      },
      "source": [
        "#. Find gcd of 2 numbers.\r\n",
        "num1 = int(input(\"Enter 1st number: \"))\r\n",
        "num2 = int(input(\"Enter 2nd number: \"))\r\n",
        "i = 1\r\n",
        "while(i <= num1 and i <= num2):\r\n",
        "  if(num1 % i == 0 and num2 % i == 0):\r\n",
        "    gcd = i\r\n",
        "  i = i + 1\r\n",
        "print(\"GCD is\", gcd)"
      ],
      "execution_count": null,
      "outputs": [
        {
          "output_type": "stream",
          "text": [
            "Enter 1st number: 5\n",
            "Enter 2nd number: 15\n",
            "GCD is 5\n"
          ],
          "name": "stdout"
        }
      ]
    },
    {
      "cell_type": "code",
      "metadata": {
        "colab": {
          "base_uri": "https://localhost:8080/"
        },
        "id": "c0EGFpYa83CS",
        "outputId": "f5a745a0-ce4d-4d26-a13e-10bc0f4209d3"
      },
      "source": [
        "#Store a list of first names. Count the occurrences of ‘a’ within the list\r\n",
        "a_list = [\"a\", \"b\", \"a\"]\r\n",
        "occurrences = a_list.count(\"a\")\r\n",
        "print(occurrences)"
      ],
      "execution_count": 1,
      "outputs": [
        {
          "output_type": "stream",
          "text": [
            "2\n"
          ],
          "name": "stdout"
        }
      ]
    },
    {
      "cell_type": "code",
      "metadata": {
        "colab": {
          "base_uri": "https://localhost:8080/"
        },
        "id": "UqRZ-_-2cvDu",
        "outputId": "88b0257b-6690-4145-f27b-59124c95b345"
      },
      "source": [
        "#Create a list of colors from comma-separated color names entered by user. Display first and last colors.\r\n",
        "\r\n",
        "color_list = [\"Red\",\"Green\",\"White\" ,\"Black\"]\r\n",
        "print( \"%s %s\"%(color_list[0],color_list[-1]))\r\n",
        "\r\n"
      ],
      "execution_count": null,
      "outputs": [
        {
          "output_type": "stream",
          "text": [
            "Red Black\n"
          ],
          "name": "stdout"
        }
      ]
    }
  ]
}