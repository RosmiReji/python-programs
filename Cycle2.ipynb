{
  "nbformat": 4,
  "nbformat_minor": 0,
  "metadata": {
    "colab": {
      "name": "Cycle2.ipynb",
      "provenance": [],
      "collapsed_sections": []
    },
    "kernelspec": {
      "name": "python3",
      "display_name": "Python 3"
    }
  },
  "cells": [
    {
      "cell_type": "code",
      "metadata": {
        "id": "dAAPqa-ijm5t",
        "colab": {
          "base_uri": "https://localhost:8080/"
        },
        "outputId": "950bec40-8a14-4379-c329-90f5197f8e6e"
      },
      "source": [
        "#Display future leap years from current year to a final year entered by user.\r\n",
        "y=int(input(\"enter the final year\"))\r\n",
        "print(\"Future leap years from 2021\")\r\n",
        "for x in range (2021,y+1):\r\n",
        " if((x%4==0) and(x%100!=0)) or (x%100==0):\r\n",
        "   print(x)"
      ],
      "execution_count": null,
      "outputs": [
        {
          "output_type": "stream",
          "text": [
            "enter the final year2030\n",
            "Future leap years from 2021\n",
            "2024\n",
            "2028\n"
          ],
          "name": "stdout"
        }
      ]
    },
    {
      "cell_type": "code",
      "metadata": {
        "id": "3gKc7hod6xiF",
        "colab": {
          "base_uri": "https://localhost:8080/"
        },
        "outputId": "5fd8e10a-74ea-45a5-f26a-9280cb1e7ece"
      },
      "source": [
        "# Generate positive list of numbers from a given list of integers\r\n",
        "mylist=[2,3,-4,-5,-3]\r\n",
        "print(\"First list :\",mylist)\r\n",
        "newlist=[x for x in mylist if x > 0]\r\n",
        "print(\"New list:\",newlist)\r\n",
        "\r\n",
        "#Square of N numbers\r\n",
        "mylist=[2,5,3,8]\r\n",
        "print(\"First List\",mylist);\r\n",
        "newlist=[number ** 2 for number in mylist] \r\n",
        "print(\"new list\",newlist)\r\n",
        "\r\n",
        "#Form a list of vowels selected from a given word\r\n",
        "[x for x in 'MATHEMATICS' if x in ['A','E','I','O','U']]\r\n"
      ],
      "execution_count": null,
      "outputs": [
        {
          "output_type": "stream",
          "text": [
            "First list : [2, 3, -4, -5, -3]\n",
            "New list: [2, 3]\n",
            "First List [2, 5, 3, 8]\n",
            "new list [4, 25, 9, 64]\n"
          ],
          "name": "stdout"
        },
        {
          "output_type": "execute_result",
          "data": {
            "text/plain": [
              "['A', 'E', 'A', 'I']"
            ]
          },
          "metadata": {
            "tags": []
          },
          "execution_count": 28
        }
      ]
    },
    {
      "cell_type": "code",
      "metadata": {
        "id": "8RGKxMawf5y_",
        "colab": {
          "base_uri": "https://localhost:8080/"
        },
        "outputId": "cf38702d-781a-489a-8345-d6c11651d736"
      },
      "source": [
        "# Count the occurrences of each word in a line of text.\r\n",
        "txt=\"apple mango strawberry jam apple jam mango\"\r\n",
        "x1=txt.count(\"apple\")\r\n",
        "x2=txt.count(\"mango\")\r\n",
        "x3=txt.count(\"jam\")\r\n",
        "x4=txt.count(\"strawberry\")\r\n",
        "print(x1,x2,x3,x4)"
      ],
      "execution_count": null,
      "outputs": [
        {
          "output_type": "stream",
          "text": [
            "2 2 2 1\n"
          ],
          "name": "stdout"
        }
      ]
    },
    {
      "cell_type": "code",
      "metadata": {
        "colab": {
          "base_uri": "https://localhost:8080/"
        },
        "id": "KDoGcNKVX3zz",
        "outputId": "a29b1925-c337-47af-9477-d563140b8f70"
      },
      "source": [
        "# Accept the radius from user and find area of circle.\r\n",
        "r=float(input(\"enter radius of circle\"))\r\n",
        "pi=3.14\r\n",
        "area=pi*r*r\r\n",
        "print(\"Area=\",area)"
      ],
      "execution_count": null,
      "outputs": [
        {
          "output_type": "stream",
          "text": [
            "enter radius of circle4\n",
            "Area= 50.24\n"
          ],
          "name": "stdout"
        }
      ]
    },
    {
      "cell_type": "code",
      "metadata": {
        "id": "TQHiwwXBsvpN",
        "colab": {
          "base_uri": "https://localhost:8080/"
        },
        "outputId": "5a6b2795-4dc3-4ea5-a948-bb29982f9dae"
      },
      "source": [
        "#Find biggest of 3 numbers entered.\r\n",
        "num1 = float(input(\"Enter first number: \"))\r\n",
        "num2 = float(input(\"Enter second number: \"))\r\n",
        "num3 = float(input(\"Enter third number: \"))\r\n",
        " \r\n",
        "if (num1 > num2) and (num1 > num3):\r\n",
        "   largest = num1\r\n",
        "elif (num2 > num1) and (num2 > num3):\r\n",
        "   largest = num2\r\n",
        "else:\r\n",
        "   largest = num3\r\n",
        " \r\n",
        "print(\"The largest number is\",largest)"
      ],
      "execution_count": null,
      "outputs": [
        {
          "output_type": "stream",
          "text": [
            "Enter first number: 4\n",
            "Enter second number: 7\n",
            "Enter third number: 3\n",
            "The largest number is 7.0\n"
          ],
          "name": "stdout"
        }
      ]
    },
    {
      "cell_type": "code",
      "metadata": {
        "colab": {
          "base_uri": "https://localhost:8080/"
        },
        "id": "fHOtu4lxZAlj",
        "outputId": "16519efc-973e-467e-ccac-857848b00de7"
      },
      "source": [
        "#Merge two dictionaries.\r\n",
        "dict1={\"a\":100,\"b\":200}\r\n",
        "dict2={\"x\":300,\"y\":400}\r\n",
        "newdict=dict1.copy()\r\n",
        "newdict.update(dict2)\r\n",
        "print(\"Merged dicionary:\",newdict)\r\n"
      ],
      "execution_count": null,
      "outputs": [
        {
          "output_type": "stream",
          "text": [
            "Merged dicionary: {'a': 100, 'b': 200, 'x': 300, 'y': 400}\n"
          ],
          "name": "stdout"
        }
      ]
    },
    {
      "cell_type": "code",
      "metadata": {
        "colab": {
          "base_uri": "https://localhost:8080/"
        },
        "id": "fmJwm_OaN5k0",
        "outputId": "aa90d79c-2932-48c1-c1aa-87d67e224f62"
      },
      "source": [
        "#Accept an integer n and compute n+nn+nnn.\r\n",
        "a = int(input(\"Input an integer : \"))\r\n",
        "n1 = int( \"%s\" % a )\r\n",
        "n2 = int( \"%s%s\" % (a,a) )\r\n",
        "n3 = int( \"%s%s%s\" % (a,a,a) )\r\n",
        "print (n1+n2+n3)\r\n"
      ],
      "execution_count": null,
      "outputs": [
        {
          "output_type": "stream",
          "text": [
            "Input an integer : 5\n",
            "615\n"
          ],
          "name": "stdout"
        }
      ]
    },
    {
      "cell_type": "code",
      "metadata": {
        "id": "V0kPO_0Pf7j7",
        "colab": {
          "base_uri": "https://localhost:8080/"
        },
        "outputId": "aa63bde2-eddf-42fc-c3f9-84b8ea9c0db3"
      },
      "source": [
        "#Create a single string separated with space from two strings by swapping the\r\n",
        " character at position 1.\r\n",
        "def change_string(str1):\r\n",
        "    return str1[-1:] + str1[1:-1] + str1[:1]\r\n",
        "print(change_string('abcd'))\r\n"
      ],
      "execution_count": null,
      "outputs": [
        {
          "output_type": "stream",
          "text": [
            "dbca\n"
          ],
          "name": "stdout"
        }
      ]
    },
    {
      "cell_type": "code",
      "metadata": {
        "id": "t40rgrw8i3mM",
        "colab": {
          "base_uri": "https://localhost:8080/"
        },
        "outputId": "c6e3037c-1148-41c7-a322-e7e0bd1deac1"
      },
      "source": [
        "#Get a string from an input string where all occurrences of first character replaced with ‘$’, except first character.\r\n",
        "\r\n",
        "def change_char(str1):\r\n",
        "  char = str1[0]\r\n",
        "  str1 = str1.replace(char, '$')\r\n",
        "  str1 = char + str1[1:]\r\n",
        "\r\n",
        "  return str1\r\n",
        "\r\n",
        "print(change_char('restart'))"
      ],
      "execution_count": null,
      "outputs": [
        {
          "output_type": "stream",
          "text": [
            "resta$t\n"
          ],
          "name": "stdout"
        }
      ]
    },
    {
      "cell_type": "code",
      "metadata": {
        "colab": {
          "base_uri": "https://localhost:8080/"
        },
        "id": "dRpvfMl6k8v9",
        "outputId": "47c3d7e9-586f-45bd-ef29-8f6913ae9e4e"
      },
      "source": [
        "#From a list of integers, create a list removing even numbers.list=[1,2,3,4,5,6]\r\n",
        "print(\"Orginal list\",list)\r\n",
        "for i in list:\r\n",
        "  if(i%2==0):\r\n",
        "    list.remove(i)\r\n",
        "    print(\"List after removing Even Nos\",list)"
      ],
      "execution_count": null,
      "outputs": [
        {
          "output_type": "stream",
          "text": [
            "Orginal list [1, 2, 3, 4, 5, 6]\n",
            "List after removing Even Nos [1, 3, 4, 5, 6]\n",
            "List after removing Even Nos [1, 3, 5, 6]\n",
            "List after removing Even Nos [1, 3, 5]\n"
          ],
          "name": "stdout"
        }
      ]
    },
    {
      "cell_type": "code",
      "metadata": {
        "colab": {
          "base_uri": "https://localhost:8080/"
        },
        "id": "aDhs3wfCwcj8",
        "outputId": "a4b876bb-27b1-4dec-fe4d-e39be8560ceb"
      },
      "source": [
        "#Accept a file name from user and print extension of that.\r\n",
        "filename = input(\"Input the Filename: \")\r\n",
        "f_extns = filename.split(\".\")\r\n",
        "print (\"The extension of the file is : \" + repr(f_extns[-1]))"
      ],
      "execution_count": null,
      "outputs": [
        {
          "output_type": "stream",
          "text": [
            "Input the Filename: large.java\n",
            "The extension of the file is : 'java'\n"
          ],
          "name": "stdout"
        }
      ]
    }
  ]
}