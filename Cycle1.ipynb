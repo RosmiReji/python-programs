{
  "nbformat": 4,
  "nbformat_minor": 0,
  "metadata": {
    "colab": {
      "name": "Cycle1.ipynb",
      "provenance": [],
      "collapsed_sections": []
    },
    "kernelspec": {
      "display_name": "Python 3",
      "name": "python3"
    }
  },
  "cells": [
    {
      "cell_type": "code",
      "metadata": {
        "id": "wTI24xmhzBTa",
        "colab": {
          "base_uri": "https://localhost:8080/"
        },
        "outputId": "252f61db-dbd4-4719-f7e2-f35d0c036cf2"
      },
      "source": [
        "# Program to demonstrate basic data types in python\")\r\n",
        "\r\n",
        "a=1\r\n",
        "print(\"the value of\",a,\"is of the type\",type(a))\r\n",
        "b=\"hello\"\r\n",
        "print(\"the value of\",b,\"is of the type\",type(b))\r\n",
        "c=3.14\r\n",
        "print(\"the value of\",c,\"is of the type\",type(c))\r\n",
        "d=2j\r\n",
        "print(\"the value of\",d,\"is of the type\",type(d))\r\n",
        "e={\"ads\",\"web\",\"python\"}\r\n",
        "print(\"the value of\",e,\"is of the type\",type(e))\r\n",
        "f=(\"ads\",\"web\",\"python\")\r\n",
        "print(\"the value of\",f,\"is of the type\",type(f))\r\n",
        "g=[\"ads\",\"web\",\"python\"]\r\n",
        "print(\"the value of\",g,\"is of the type\",type(g))\r\n",
        "h=range(5)\r\n",
        "print(\"the value of\",h,\"is of the type\",type(h))\r\n",
        "i=True\r\n",
        "print(\"the value of\",i,\"is of the type\",type(i))\r\n",
        "\r\n",
        "\r\n"
      ],
      "execution_count": 59,
      "outputs": [
        {
          "output_type": "stream",
          "text": [
            "the value of 1 is of the type <class 'int'>\n",
            "the value of hello is of the type <class 'str'>\n",
            "the value of 3.14 is of the type <class 'float'>\n",
            "the value of 2j is of the type <class 'complex'>\n",
            "the value of {'ads', 'web', 'python'} is of the type <class 'set'>\n",
            "the value of ('ads', 'web', 'python') is of the type <class 'tuple'>\n",
            "the value of ['ads', 'web', 'python'] is of the type <class 'list'>\n",
            "the value of range(0, 5) is of the type <class 'range'>\n",
            "the value of True is of the type <class 'bool'>\n"
          ],
          "name": "stdout"
        }
      ]
    },
    {
      "cell_type": "code",
      "metadata": {
        "colab": {
          "base_uri": "https://localhost:8080/"
        },
        "id": "-sEz6gR3sE_4",
        "outputId": "d775c3d6-ce49-4a55-d888-8f0a49ced9d2"
      },
      "source": [
        "# program to print hello world\r\n",
        "print('Hello, world!')"
      ],
      "execution_count": null,
      "outputs": [
        {
          "output_type": "stream",
          "text": [
            "Hello, world!\n"
          ],
          "name": "stdout"
        }
      ]
    },
    {
      "cell_type": "code",
      "metadata": {
        "colab": {
          "base_uri": "https://localhost:8080/"
        },
        "id": "gtxSkt8auYSZ",
        "outputId": "b891f5e2-935a-4921-88ab-b147100840ae"
      },
      "source": [
        "#Program to Print an Integer\r\n",
        "a=input('Enter a number: ')\r\n",
        "print(a)\r\n"
      ],
      "execution_count": null,
      "outputs": [
        {
          "output_type": "stream",
          "text": [
            "Enter a number: 5\n",
            "5\n"
          ],
          "name": "stdout"
        }
      ]
    },
    {
      "cell_type": "code",
      "metadata": {
        "colab": {
          "base_uri": "https://localhost:8080/"
        },
        "id": "oRW0zSi37iv2",
        "outputId": "53e06ed0-1dab-4ea5-fc82-4a927ba755ec"
      },
      "source": [
        "# Program to Add Two Integers\r\n",
        "num1 = int(input(\"Enter first number: \"))\r\n",
        "num2 = int(input(\"Enter second number: \"))\r\n",
        "sum = num1 + num2\r\n",
        "print(\"Sum of two numbers is \",sum)\r\n"
      ],
      "execution_count": null,
      "outputs": [
        {
          "output_type": "stream",
          "text": [
            "Enter first number: 3\n",
            "Enter second number: 4\n",
            "Sum of two numbers is  7\n"
          ],
          "name": "stdout"
        }
      ]
    },
    {
      "cell_type": "code",
      "metadata": {
        "colab": {
          "base_uri": "https://localhost:8080/"
        },
        "id": "kpZvx_vzDhJP",
        "outputId": "0948cae5-24ff-42c9-a3dc-e0928116a2b9"
      },
      "source": [
        "# Program to Multiply Two Floating-Point Numbers\r\n",
        "num1 = float(input(\"Enter first number: \"))\r\n",
        "num2 = float(input(\"Enter second number: \"))\r\n",
        "p = float(num1)*float(num2) \r\n",
        "print(\"Product of two numbers is \",p)\r\n"
      ],
      "execution_count": null,
      "outputs": [
        {
          "output_type": "stream",
          "text": [
            "Enter first number: 5.4\n",
            "Enter second number: 6.6\n",
            "Product of two numbers is  35.64\n"
          ],
          "name": "stdout"
        }
      ]
    },
    {
      "cell_type": "code",
      "metadata": {
        "colab": {
          "base_uri": "https://localhost:8080/"
        },
        "id": "JbFAOqEHG_2K",
        "outputId": "a4000199-76e9-4c73-fe83-76d828e328fd"
      },
      "source": [
        "# Program to Compute Quotient and Remainder\r\n",
        "a= int(input(\"Enter first number: \"))\r\n",
        "b = int(input(\"Enter second number: \"))\r\n",
        "div=a/b\r\n",
        "print('Result is',div)\r\n",
        "q=a//b\r\n",
        "print(\"Quotient is \",q)\r\n",
        "r=a%b\r\n",
        "print('Remainder is',r)\r\n"
      ],
      "execution_count": 60,
      "outputs": [
        {
          "output_type": "stream",
          "text": [
            "Enter first number: 6\n",
            "Enter second number: 4\n",
            "Result is 1.5\n",
            "Quotient is  1\n",
            "Remainder is 2\n"
          ],
          "name": "stdout"
        }
      ]
    },
    {
      "cell_type": "code",
      "metadata": {
        "id": "ylIJZtZ959Eg",
        "colab": {
          "base_uri": "https://localhost:8080/"
        },
        "outputId": "e7823642-7768-4cde-dd3d-30b89d704d3a"
      },
      "source": [
        "# Program to Swap Two Numbers\r\n",
        "a=int(input(\"Enter first number\"))\r\n",
        "b=int(input(\"Enter second number\"))\r\n",
        "print('Before swapping')\r\n",
        "print('a=',a)\r\n",
        "print('b=',b)\r\n",
        "temp=a\r\n",
        "a=b\r\n",
        "b=temp\r\n",
        "print('After swapping')\r\n",
        "print('a=',a)\r\n",
        "print('b=',b)\r\n"
      ],
      "execution_count": 61,
      "outputs": [
        {
          "output_type": "stream",
          "text": [
            "Enter first number5\n",
            "Enter second number6\n",
            "Before swapping\n",
            "a= 5\n",
            "b= 6\n",
            "After swapping\n",
            "a= 6\n",
            "b= 5\n"
          ],
          "name": "stdout"
        }
      ]
    },
    {
      "cell_type": "code",
      "metadata": {
        "colab": {
          "base_uri": "https://localhost:8080/"
        },
        "id": "UY-xd7u17VBy",
        "outputId": "4fc9c9b7-cbf8-49d9-fdea-5d68fb30e3eb"
      },
      "source": [
        "# Program to Check Whether a Number is Even or Odd\r\n",
        "a=int(input(\"Enter a number\"))\r\n",
        "if a%2==0:\r\n",
        "  print('Number is even')\r\n",
        "else:\r\n",
        "  print('Number is odd')  "
      ],
      "execution_count": null,
      "outputs": [
        {
          "output_type": "stream",
          "text": [
            "Enter a number3\n",
            "Number is odd\n"
          ],
          "name": "stdout"
        }
      ]
    },
    {
      "cell_type": "code",
      "metadata": {
        "id": "azS2vVe4Bsol",
        "colab": {
          "base_uri": "https://localhost:8080/"
        },
        "outputId": "dc0854b5-8798-4a19-9054-45c4a7e7a1e1"
      },
      "source": [
        "# Program to Check Whether a Character is a Vowel or Consonant\r\n",
        "\r\n",
        "ch = input(\"Enter a character: \")\r\n",
        "\r\n",
        "if(ch=='A' or ch=='a' or ch=='E' or ch =='e' or ch=='I'\r\n",
        " or ch=='i' or ch=='O' or ch=='o' or ch=='U' or ch=='u'):\r\n",
        "    print(ch, \"is a Vowel\")\r\n",
        "else:\r\n",
        "    print(ch, \"is a Consonant\")"
      ],
      "execution_count": null,
      "outputs": [
        {
          "output_type": "stream",
          "text": [
            "Enter a character: b\n",
            "b is a Consonant\n"
          ],
          "name": "stdout"
        }
      ]
    },
    {
      "cell_type": "code",
      "metadata": {
        "id": "ZkHIpifUIrTa",
        "colab": {
          "base_uri": "https://localhost:8080/"
        },
        "outputId": "72b4e5d7-5e71-48d2-88fd-aea4e2965925"
      },
      "source": [
        "# program to find largest among three nos\r\n",
        "\r\n",
        "a = int(input(\"Enter first number: \"))\r\n",
        "b = int(input(\"Enter second number: \"))\r\n",
        "c = int(input(\"Enter third number: \"))\r\n",
        "if a>b:\r\n",
        "  if a>c:\r\n",
        "    print('largest is',a)\r\n",
        "  else:\r\n",
        "       print('largest is',c)\r\n",
        "elif b>c:\r\n",
        "  print('largest is',b)    \r\n",
        "else:\r\n",
        "   print('largest is',c)\r\n",
        "           "
      ],
      "execution_count": 63,
      "outputs": [
        {
          "output_type": "stream",
          "text": [
            "Enter first number: 5\n",
            "Enter second number: 7\n",
            "Enter third number: 3\n",
            "largest is 7\n"
          ],
          "name": "stdout"
        }
      ]
    },
    {
      "cell_type": "code",
      "metadata": {
        "id": "zeMAoZ43ZG6t",
        "colab": {
          "base_uri": "https://localhost:8080/"
        },
        "outputId": "2c2c0f9c-9ba6-421e-ff67-be8aa0057105"
      },
      "source": [
        "# pogram to Check Leap Year \r\n",
        "\r\n",
        "n= int(input(\"Enter the year: \"))\r\n",
        "if n%400==0:\r\n",
        "  print('Leap year')\r\n",
        "elif n%100==0:\r\n",
        "    print('Leap year')\r\n",
        "elif n%4==0:\r\n",
        "      print('Leap Year')\r\n",
        "else:\r\n",
        "        print('Not a leap year')"
      ],
      "execution_count": 64,
      "outputs": [
        {
          "output_type": "stream",
          "text": [
            "Enter the year: 2020\n",
            "Leap Year\n"
          ],
          "name": "stdout"
        }
      ]
    },
    {
      "cell_type": "code",
      "metadata": {
        "id": "YAYXAHiPZItE",
        "colab": {
          "base_uri": "https://localhost:8080/"
        },
        "outputId": "f8f4d2ba-2fc0-47ea-edc1-319a5fbe9d48"
      },
      "source": [
        "# program to Check Whether a Number is Positive or Negative\r\n",
        "\r\n",
        "n= int(input(\"Enter the number: \"))\r\n",
        "if(n>0):\r\n",
        "  print('Number is positive')\r\n",
        "else:\r\n",
        "    print('Number is negetive')"
      ],
      "execution_count": 65,
      "outputs": [
        {
          "output_type": "stream",
          "text": [
            "Enter the number: 5\n",
            "Number is positive\n"
          ],
          "name": "stdout"
        }
      ]
    },
    {
      "cell_type": "code",
      "metadata": {
        "id": "GO5a2OsFaX5x",
        "colab": {
          "base_uri": "https://localhost:8080/"
        },
        "outputId": "c5b10438-3dc6-4dff-9088-9177d2c4dc6d"
      },
      "source": [
        "# Program to Calculate the Sum of Natural Numbers\r\n",
        "\r\n",
        "n= int(input(\"Enter the limit: \"))\r\n",
        "sum = 0\r\n",
        "for num in range(0, n+1, 1):\r\n",
        "    sum = sum+num\r\n",
        "print(\"SUM of first \", n, \"numbers is: \", sum )"
      ],
      "execution_count": 66,
      "outputs": [
        {
          "output_type": "stream",
          "text": [
            "Enter the limit: 5\n",
            "SUM of first  5 numbers is:  15\n"
          ],
          "name": "stdout"
        }
      ]
    },
    {
      "cell_type": "code",
      "metadata": {
        "id": "9VnEGwbgySJX",
        "colab": {
          "base_uri": "https://localhost:8080/"
        },
        "outputId": "be4f30f3-57c8-4a7e-97a8-1c56f086e649"
      },
      "source": [
        "# Program to Find Factorial of a Number\r\n",
        "\r\n",
        "n= int(input(\"Enter the number: \"))\r\n",
        "fact=1\r\n",
        "for i in range(1,n+1):\r\n",
        "  fact=fact*i\r\n",
        "print(\"factorial of \",n,\"is\",fact)"
      ],
      "execution_count": null,
      "outputs": [
        {
          "output_type": "stream",
          "text": [
            "Enter the number: 5\n",
            "factorial of  5 is 120\n"
          ],
          "name": "stdout"
        }
      ]
    },
    {
      "cell_type": "code",
      "metadata": {
        "id": "8jBH5jdRybMB",
        "colab": {
          "base_uri": "https://localhost:8080/"
        },
        "outputId": "7c9afac1-e364-42b9-c30f-959c75257b5a"
      },
      "source": [
        "# Program to Generate Multiplication Table\r\n",
        "\r\n",
        "n= int(input(\"Enter the number: \"))\r\n",
        "for i in range(1,11):\r\n",
        "  print(n,\"x\",i,\"=\",n*i)"
      ],
      "execution_count": null,
      "outputs": [
        {
          "output_type": "stream",
          "text": [
            "Enter the number: 5\n",
            "5 x 1 = 5\n",
            "5 x 2 = 10\n",
            "5 x 3 = 15\n",
            "5 x 4 = 20\n",
            "5 x 5 = 25\n",
            "5 x 6 = 30\n",
            "5 x 7 = 35\n",
            "5 x 8 = 40\n",
            "5 x 9 = 45\n",
            "5 x 10 = 50\n"
          ],
          "name": "stdout"
        }
      ]
    },
    {
      "cell_type": "code",
      "metadata": {
        "id": "PPA-NVztyhCg",
        "colab": {
          "base_uri": "https://localhost:8080/"
        },
        "outputId": "642543b3-331d-4479-edfe-5ea70985d402"
      },
      "source": [
        "# Program to Display Fibonacci Sequence\r\n",
        "\r\n",
        "n= int(input(\"Enter the number: \"))\r\n",
        "x,y=0,1\r\n",
        "count=0\r\n",
        "if n<=0:\r\n",
        "  print(\"Enter a positive number\")\r\n",
        "elif n==1:\r\n",
        "    print(\"fibonacci sequence upto\",n,\":\")\r\n",
        "    print(x)\r\n",
        "else:\r\n",
        "      print(\"Fibanocci series\")\r\n",
        "      while count<n:\r\n",
        "        print(x)\r\n",
        "        z=x+y\r\n",
        "        x=y\r\n",
        "        y=z\r\n",
        "        count+=1"
      ],
      "execution_count": 67,
      "outputs": [
        {
          "output_type": "stream",
          "text": [
            "Enter the number: 5\n",
            "Fibanocci series\n",
            "0\n",
            "1\n",
            "1\n",
            "2\n",
            "3\n"
          ],
          "name": "stdout"
        }
      ]
    },
    {
      "cell_type": "code",
      "metadata": {
        "id": "jtWB8yp9yvcz",
        "colab": {
          "base_uri": "https://localhost:8080/"
        },
        "outputId": "627ea995-4855-4384-9a26-6dded6e30dcd"
      },
      "source": [
        "# Program to Find LCM of two Numbers\r\n",
        "\r\n",
        "a=int(input(\"Enter the first number:\"))\r\n",
        "b=int(input(\"Enter the second number:\"))\r\n",
        "if(a>b):\r\n",
        "    min1=a\r\n",
        "else:\r\n",
        "    min1=b\r\n",
        "while(1):\r\n",
        "    if(min1%a==0 and min1%b==0):\r\n",
        "        print(\"LCM is:\",min1)\r\n",
        "        break\r\n",
        "    min1=min1+1"
      ],
      "execution_count": 1,
      "outputs": [
        {
          "output_type": "stream",
          "text": [
            "Enter the first number:2\n",
            "Enter the second number:4\n",
            "LCM is: 4\n"
          ],
          "name": "stdout"
        }
      ]
    },
    {
      "cell_type": "code",
      "metadata": {
        "id": "fSKCNbPTyy1M",
        "colab": {
          "base_uri": "https://localhost:8080/"
        },
        "outputId": "ef45e42d-35d0-4e38-ce00-293189ba022f"
      },
      "source": [
        "# Program to Count Number of Digits in an Integer\r\n",
        "\r\n",
        "n=int(input(\"Enter the number: \"))\r\n",
        "count=0\r\n",
        "while n>0:\r\n",
        "  count=count+1\r\n",
        "  n=n//10\r\n",
        "print(\"The no. of digit of given no. is\",count)\r\n"
      ],
      "execution_count": null,
      "outputs": [
        {
          "output_type": "stream",
          "text": [
            "Enter the number: 23456\n",
            "The no. of digit of given no. is 5\n"
          ],
          "name": "stdout"
        }
      ]
    },
    {
      "cell_type": "code",
      "metadata": {
        "colab": {
          "base_uri": "https://localhost:8080/"
        },
        "id": "LpfUENDLYqSi",
        "outputId": "93379810-d7c4-4f96-c8fd-f5e0a6a6d9a4"
      },
      "source": [
        "x= int(input(\"Enter the number: \"))\r\n",
        "rev=0\r\n",
        "while x>0:\r\n",
        "  rev=(rev*10)+(x%10)\r\n",
        "  x=x//10\r\n",
        "print(\"reverse is \",rev)"
      ],
      "execution_count": 52,
      "outputs": [
        {
          "output_type": "stream",
          "text": [
            "Enter the number: 343\n",
            "reverse is  343\n"
          ],
          "name": "stdout"
        }
      ]
    },
    {
      "cell_type": "code",
      "metadata": {
        "id": "zSjPwRCty0Em",
        "colab": {
          "base_uri": "https://localhost:8080/"
        },
        "outputId": "9d350f37-d336-48b1-95c0-a75106c536e4"
      },
      "source": [
        "# Program to Calculate the Power of a Number\r\n",
        "\r\n",
        "def power(base,exp):\r\n",
        "    if(exp==1):\r\n",
        "        return(base)\r\n",
        "    if(exp!=1):\r\n",
        "        return(base*power(base,exp-1))\r\n",
        "base=int(input(\"Enter base: \"))\r\n",
        "exp=int(input(\"Enter exponential value: \"))\r\n",
        "print(\"Result:\",power(base,exp))\r\n"
      ],
      "execution_count": 55,
      "outputs": [
        {
          "output_type": "stream",
          "text": [
            "Enter base: 3\n",
            "Enter exponential value: 2\n",
            "Result: 9\n"
          ],
          "name": "stdout"
        }
      ]
    },
    {
      "cell_type": "code",
      "metadata": {
        "id": "W_pinRQRy5lD",
        "colab": {
          "base_uri": "https://localhost:8080/"
        },
        "outputId": "69f1f868-753e-4957-87b1-37384dca247c"
      },
      "source": [
        "# Program to Check Whether a Number is Palindrome or not\r\n",
        "n=int(input(\"Enter number:\"))\r\n",
        "temp=n\r\n",
        "rev=0\r\n",
        "while(n>0):\r\n",
        "    dig=n%10\r\n",
        "    rev=rev*10+dig\r\n",
        "    n=n//10\r\n",
        "if(temp==rev):\r\n",
        "    print(\"The number is a palindrome\")\r\n",
        "else:\r\n",
        "    print(\"The number isn't a palindrome\")"
      ],
      "execution_count": 2,
      "outputs": [
        {
          "output_type": "stream",
          "text": [
            "Enter number:343\n",
            "The number is a palindrome\n"
          ],
          "name": "stdout"
        }
      ]
    }
  ]
}