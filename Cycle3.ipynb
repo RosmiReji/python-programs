{
  "nbformat": 4,
  "nbformat_minor": 0,
  "metadata": {
    "colab": {
      "name": "Cycle3.ipynb",
      "provenance": [],
      "collapsed_sections": []
    },
    "kernelspec": {
      "name": "python3",
      "display_name": "Python 3"
    }
  },
  "cells": [
    {
      "cell_type": "code",
      "metadata": {
        "colab": {
          "base_uri": "https://localhost:8080/"
        },
        "id": "DjUjQdZQMqhg",
        "outputId": "8af9d97b-d638-4926-e9fb-3696d6440e2e"
      },
      "source": [
        "#Program to find the factorial of a number \r\n",
        "num = int(input(\"Enter a number: \"))  \r\n",
        "factorial = 1  \r\n",
        "if num == 0:  \r\n",
        "   print(\"The factorial of 0 is 1\")  \r\n",
        "else:  \r\n",
        "   for i in range(1,num + 1):  \r\n",
        "       factorial = factorial*i  \r\n",
        "   print(\"The factorial of\",num,\"is\",factorial)  "
      ],
      "execution_count": null,
      "outputs": [
        {
          "output_type": "stream",
          "text": [
            "Enter a number: 5\n",
            "The factorial of 5 is 120\n"
          ],
          "name": "stdout"
        }
      ]
    },
    {
      "cell_type": "code",
      "metadata": {
        "colab": {
          "base_uri": "https://localhost:8080/"
        },
        "id": "GWRNPvENNZNy",
        "outputId": "7b5881cd-6cf6-4c9b-c2f3-cc40de516d29"
      },
      "source": [
        "#Generate Fibonacci series of N terms \r\n",
        "n = int(input(\"Enter the value of 'n': \"))\r\n",
        "a = 0\r\n",
        "b = 1\r\n",
        "sum = 0\r\n",
        "count = 1\r\n",
        "print(\"Fibonacci Series: \", end = \" \")\r\n",
        "while(count <= n):\r\n",
        "  print(sum, end = \" \")\r\n",
        "  count += 1\r\n",
        "  a = b\r\n",
        "  b = sum\r\n",
        "  sum = a + b\r\n"
      ],
      "execution_count": null,
      "outputs": [
        {
          "output_type": "stream",
          "text": [
            "Enter the value of 'n': 5\n",
            "Fibonacci Series:  0 1 1 2 3 "
          ],
          "name": "stdout"
        }
      ]
    },
    {
      "cell_type": "code",
      "metadata": {
        "colab": {
          "base_uri": "https://localhost:8080/"
        },
        "id": "OMCXaUkHPqxT",
        "outputId": "8b430f6f-6efc-4b8f-f697-c0ad8432f789"
      },
      "source": [
        "# Python program to find sum of elements in list\r\n",
        "total = 0 \r\n",
        "list1 = [11, 5, 17, 18, 23]  \r\n",
        "for i in range(0, len(list1)):\r\n",
        "    total = total + list1[i] \r\n",
        "print(\"Sum of all elements in given list: \", total)"
      ],
      "execution_count": null,
      "outputs": [
        {
          "output_type": "stream",
          "text": [
            "Sum of all elements in given list:  74\n"
          ],
          "name": "stdout"
        }
      ]
    },
    {
      "cell_type": "code",
      "metadata": {
        "colab": {
          "base_uri": "https://localhost:8080/"
        },
        "id": "a87HoOdk48mY",
        "outputId": "0b572bbf-768f-4c4c-9668-94102a8b7aae"
      },
      "source": [
        "#Display the given pyramid with step number accepted from user\r\n",
        "row = int(input('Enter how many lines? '))\r\n",
        "\r\n",
        "# Generating pattern\r\n",
        "for i in range(1,row+1):\r\n",
        "    \r\n",
        "    # for space\r\n",
        "    for j in range(1, row+1-i):\r\n",
        "        print(' ', end='')\r\n",
        "    \r\n",
        "    # for increasing pattern\r\n",
        "    for j in range(1,i+1):\r\n",
        "        print(j, end='')\r\n",
        "    \r\n",
        "    # for decreasing pattern \r\n",
        "    for j in range(i-1,0,-1):\r\n",
        "        print(j, end='')\r\n",
        "    \r\n",
        "    # Moving to next line\r\n",
        "    print()"
      ],
      "execution_count": null,
      "outputs": [
        {
          "output_type": "stream",
          "text": [
            "Enter how many lines? 4\n",
            "   1\n",
            "  121\n",
            " 12321\n",
            "1234321\n"
          ],
          "name": "stdout"
        }
      ]
    },
    {
      "cell_type": "code",
      "metadata": {
        "colab": {
          "base_uri": "https://localhost:8080/"
        },
        "id": "un0Iq6-rLP0Z",
        "outputId": "4575b003-0e4b-45e1-fc80-3351b0579c1b"
      },
      "source": [
        " #Generate a list of four digit numbers in a given range with all their digits even and the number is a perfect square.\r\n",
        "l=int(input(\"Enter lower range: \"))\r\n",
        "u=int(input(\"Enter upper range: \"))\r\n",
        "a=[]\r\n",
        "a=[x for x in range(l,u+1) if (int(x*0.5))*2==x and sum(list(map(int,str(x))))<10]\r\n",
        "print(a)"
      ],
      "execution_count": null,
      "outputs": [
        {
          "output_type": "stream",
          "text": [
            "Enter lower range: 1\n",
            "Enter upper range: 10\n",
            "[2, 4, 6, 8, 10]\n"
          ],
          "name": "stdout"
        }
      ]
    },
    {
      "cell_type": "code",
      "metadata": {
        "colab": {
          "base_uri": "https://localhost:8080/"
        },
        "id": "d8tiiJULxFX_",
        "outputId": "1716624f-4dee-4d32-c5c6-0facbe0a9a24"
      },
      "source": [
        "#Construct following pattern using nested loop \r\n",
        "print(\"Print equilateral triangle Pyramid using stars \")\r\n",
        "size = 7\r\n",
        "m = (2 * size) - 2\r\n",
        "for i in range(0, size):\r\n",
        "    for j in range(0, m):\r\n",
        "        print(end=\" \")\r\n",
        "    m = m - 1  # decrementing m after each loop\r\n",
        "    for j in range(0, i + 1):\r\n",
        "        # printing full Triangle pyramid using stars\r\n",
        "        print(\"* \", end=' ')\r\n",
        "    print(\" \")"
      ],
      "execution_count": null,
      "outputs": [
        {
          "output_type": "stream",
          "text": [
            "Print equilateral triangle Pyramid using stars \n",
            "            *   \n",
            "           *  *   \n",
            "          *  *  *   \n",
            "         *  *  *  *   \n",
            "        *  *  *  *  *   \n",
            "       *  *  *  *  *  *   \n",
            "      *  *  *  *  *  *  *   \n"
          ],
          "name": "stdout"
        }
      ]
    },
    {
      "cell_type": "code",
      "metadata": {
        "id": "naI7Plq3RuPi",
        "colab": {
          "base_uri": "https://localhost:8080/"
        },
        "outputId": "9f826862-57da-4e1e-880a-ae156d95418a"
      },
      "source": [
        "# Count the number of characters (character frequency) in a string\r\n",
        "def char_frequency(str1):\r\n",
        "    dict = {}\r\n",
        "    for n in str1:\r\n",
        "        keys = dict.keys()\r\n",
        "        if n in keys:\r\n",
        "            dict[n] += 1\r\n",
        "        else:\r\n",
        "            dict[n] = 1\r\n",
        "    return dict\r\n",
        "print(char_frequency('google.com'))\r\n"
      ],
      "execution_count": null,
      "outputs": [
        {
          "output_type": "stream",
          "text": [
            "{'g': 2, 'o': 3, 'l': 1, 'e': 1, '.': 1, 'c': 1, 'm': 1}\n"
          ],
          "name": "stdout"
        }
      ]
    },
    {
      "cell_type": "code",
      "metadata": {
        "colab": {
          "base_uri": "https://localhost:8080/"
        },
        "id": "V5CYJhGTtSau",
        "outputId": "b780e74b-251d-47b2-a1ac-d9c4ddc35558"
      },
      "source": [
        "# Python Program to find the factors of a number\r\n",
        "\r\n",
        "def print_factors(x):\r\n",
        "   print(\"The factors of\",x,\"are:\")\r\n",
        "   for i in range(1, x + 1):\r\n",
        "       if x % i == 0:\r\n",
        "           print(i)\r\n",
        "\r\n",
        "num = int(input(\"Enter the value of 'n': \"))\r\n",
        "\r\n",
        "print_factors(num)"
      ],
      "execution_count": null,
      "outputs": [
        {
          "output_type": "stream",
          "text": [
            "Enter the value of 'n': 5\n",
            "The factors of 5 are:\n",
            "1\n",
            "5\n"
          ],
          "name": "stdout"
        }
      ]
    },
    {
      "cell_type": "code",
      "metadata": {
        "colab": {
          "base_uri": "https://localhost:8080/"
        },
        "id": "M1QMg4zRK3qd",
        "outputId": "3beb6ff4-6f21-4468-cc69-7626e19eb760"
      },
      "source": [
        "def add_string(str1):  \r\n",
        "  length = len(str1)  \r\n",
        "  \r\n",
        "  if length > 2:  \r\n",
        "    if str1[-3:] == 'ing':  \r\n",
        "      str1 += 'ly'  \r\n",
        "    else:  \r\n",
        "      str1 += 'ing'  \r\n",
        "  \r\n",
        "  return str1  \r\n",
        "print(add_string('ab'))  \r\n",
        "print(add_string('abc'))  \r\n",
        "print(add_string('string'))"
      ],
      "execution_count": null,
      "outputs": [
        {
          "output_type": "stream",
          "text": [
            "ab\n",
            "abcing\n",
            "stringly\n"
          ],
          "name": "stdout"
        }
      ]
    },
    {
      "cell_type": "code",
      "metadata": {
        "colab": {
          "base_uri": "https://localhost:8080/"
        },
        "id": "Jyuht3yEtrZn",
        "outputId": "f3fcdf9c-6b7a-4ade-c78e-4bd19f1fc5fb"
      },
      "source": [
        "# Write lambda functions to find area of square, rectangle and triangle\r\n",
        "import math\r\n",
        "t_peri =lambda p,q,r :p+q+r\r\n",
        "r_area=lambda len,ht :len*ht \r\n",
        "c_peri=lambda rad :2*math.pi*rad \r\n",
        "c_area=lambda rad :math.pi*rad*rad \r\n",
        "\r\n",
        "print(\"perimeter of triangle (10,20,15) is \",t_peri(10,20,15))\r\n",
        "print(\"area of rectangle (30,20) is\",r_area(30,20))\r\n",
        "print(\"perimeter of circle (10) is:\",c_peri(10))\r\n",
        "print(\"area of circle (15) is: \",c_area(15))\r\n"
      ],
      "execution_count": null,
      "outputs": [
        {
          "output_type": "stream",
          "text": [
            "perimeter of triangle (10,20,15) is  45\n",
            "area of rectangle (30,20) is 600\n",
            "perimeter of circle (10) is: 62.83185307179586\n",
            "area of circle (15) is:  706.8583470577034\n"
          ],
          "name": "stdout"
        }
      ]
    },
    {
      "cell_type": "code",
      "metadata": {
        "colab": {
          "base_uri": "https://localhost:8080/"
        },
        "id": "wBhrglc121fY",
        "outputId": "37f56231-bb00-43aa-9c40-7a7dab74f431"
      },
      "source": [
        "#Accept a list of words and return length of longest word. \r\n",
        "def longestLength(a): \r\n",
        "    max1 = len(a[0]) \r\n",
        "    temp = a[0] \r\n",
        "  \r\n",
        "    # for loop to traverse the list \r\n",
        "    for i in a: \r\n",
        "        if(len(i) > max1): \r\n",
        "  \r\n",
        "            max1 = len(i) \r\n",
        "            temp = i \r\n",
        "  \r\n",
        "    print(\"The word with the longest length is:\", temp, \r\n",
        "          \" and length is \", max1) \r\n",
        "a = input(\"Enter a list elements separated by space: \")\r\n",
        "\r\n",
        "a = a.split() \r\n",
        "longestLength(a) "
      ],
      "execution_count": null,
      "outputs": [
        {
          "output_type": "stream",
          "text": [
            "Enter a list elements separated by space: python is programming language\n",
            "The word with the longest length is: programming  and length is  11\n"
          ],
          "name": "stdout"
        }
      ]
    }
  ]
}